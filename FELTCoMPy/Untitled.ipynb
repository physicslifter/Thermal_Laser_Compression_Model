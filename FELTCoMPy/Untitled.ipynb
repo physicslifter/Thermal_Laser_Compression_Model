{
 "cells": [
  {
   "cell_type": "code",
   "execution_count": 2,
   "id": "b4268e62-6b1e-4017-92e1-bb038b61fb8e",
   "metadata": {},
   "outputs": [],
   "source": [
    "import sfepy"
   ]
  },
  {
   "cell_type": "code",
   "execution_count": 3,
   "id": "5f64a503-de54-40fc-b57b-ce057a48d11c",
   "metadata": {},
   "outputs": [
    {
     "ename": "AttributeError",
     "evalue": "module 'sfepy' has no attribute '__all__'",
     "output_type": "error",
     "traceback": [
      "\u001b[1;31m---------------------------------------------------------------------------\u001b[0m",
      "\u001b[1;31mAttributeError\u001b[0m                            Traceback (most recent call last)",
      "\u001b[1;32m<ipython-input-3-5a3bbb16a484>\u001b[0m in \u001b[0;36m<module>\u001b[1;34m\u001b[0m\n\u001b[1;32m----> 1\u001b[1;33m \u001b[0msubs\u001b[0m\u001b[1;33m=\u001b[0m\u001b[0msfepy\u001b[0m\u001b[1;33m.\u001b[0m\u001b[0m__all__\u001b[0m\u001b[1;33m\u001b[0m\u001b[1;33m\u001b[0m\u001b[0m\n\u001b[0m\u001b[0;32m      2\u001b[0m \u001b[0mprint\u001b[0m\u001b[1;33m(\u001b[0m\u001b[0msubs\u001b[0m\u001b[1;33m)\u001b[0m\u001b[1;33m\u001b[0m\u001b[1;33m\u001b[0m\u001b[0m\n",
      "\u001b[1;31mAttributeError\u001b[0m: module 'sfepy' has no attribute '__all__'"
     ]
    }
   ],
   "source": [
    "subs=sfepy.__all__\n",
    "print(subs)"
   ]
  },
  {
   "cell_type": "code",
   "execution_count": 4,
   "id": "bff5db45-a6a1-4dfd-8640-3b57e8ae9be6",
   "metadata": {},
   "outputs": [
    {
     "name": "stdout",
     "output_type": "stream",
     "text": [
      "<class '_frozen_importlib.ModuleSpec'> __spec__\n",
      "<class 'NoneType'> __doc__\n",
      "<class '_frozen_importlib_external.SourceFileLoader'> __loader__\n",
      "<class '__future__._Feature'> absolute_import\n",
      "<class 'bool'> in_source_tree\n",
      "<class 'dict'> __builtins__\n",
      "<class 'function'> get_paths\n",
      "<class 'list'> __path__\n",
      "<class 'module'> base\n",
      "<class 'module'> config\n",
      "<class 'module'> discrete\n",
      "<class 'module'> glob\n",
      "<class 'module'> homogenization\n",
      "<class 'module'> linalg\n",
      "<class 'module'> mechanics\n",
      "<class 'module'> os\n",
      "<class 'module'> solvers\n",
      "<class 'module'> terms\n",
      "<class 'module'> version\n",
      "<class 'str'> __cached__\n",
      "<class 'str'> __file__\n",
      "<class 'str'> __name__\n",
      "<class 'str'> __package__\n",
      "<class 'str'> __version__\n",
      "<class 'str'> base_dir\n",
      "<class 'str'> data_dir\n",
      "<class 'str'> top_dir\n",
      "<class 'type'> Config\n"
     ]
    }
   ],
   "source": [
    "def sort_by_type(t):\n",
    "    return t[0].__name__\n",
    "\n",
    "attrs = [(type(getattr(sfepy, attr)), attr) for attr in dir(sfepy)]\n",
    "attrs.sort(key=sort_by_type)\n",
    "for t, n in attrs:\n",
    "    print(t, n)"
   ]
  },
  {
   "cell_type": "code",
   "execution_count": null,
   "id": "4f352ab2-cc18-4175-9c7c-3f6362fde062",
   "metadata": {},
   "outputs": [],
   "source": []
  }
 ],
 "metadata": {
  "kernelspec": {
   "display_name": "Python 3",
   "language": "python",
   "name": "python3"
  },
  "language_info": {
   "codemirror_mode": {
    "name": "ipython",
    "version": 3
   },
   "file_extension": ".py",
   "mimetype": "text/x-python",
   "name": "python",
   "nbconvert_exporter": "python",
   "pygments_lexer": "ipython3",
   "version": "3.8.8"
  }
 },
 "nbformat": 4,
 "nbformat_minor": 5
}
