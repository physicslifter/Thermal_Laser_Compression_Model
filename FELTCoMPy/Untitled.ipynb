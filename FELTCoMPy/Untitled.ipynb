{
 "cells": [
  {
   "cell_type": "code",
   "execution_count": 2,
   "id": "b4268e62-6b1e-4017-92e1-bb038b61fb8e",
   "metadata": {},
   "outputs": [],
   "source": [
    "from __future__ import absolute_import\n",
    "from sfepy.mechanics.matcoefs import stiffness_from_youngpoisson\n",
    "from sfepy.discrete.fem.utils import refine_mesh\n",
    "from sfepy import data_dir"
   ]
  },
  {
   "cell_type": "code",
   "execution_count": null,
   "id": "5f64a503-de54-40fc-b57b-ce057a48d11c",
   "metadata": {},
   "outputs": [],
   "source": []
  }
 ],
 "metadata": {
  "kernelspec": {
   "display_name": "Python 3",
   "language": "python",
   "name": "python3"
  },
  "language_info": {
   "codemirror_mode": {
    "name": "ipython",
    "version": 3
   },
   "file_extension": ".py",
   "mimetype": "text/x-python",
   "name": "python",
   "nbconvert_exporter": "python",
   "pygments_lexer": "ipython3",
   "version": "3.8.8"
  }
 },
 "nbformat": 4,
 "nbformat_minor": 5
}
